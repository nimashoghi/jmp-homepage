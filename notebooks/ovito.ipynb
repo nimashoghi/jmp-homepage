{
 "cells": [
  {
   "cell_type": "code",
   "execution_count": 8,
   "metadata": {},
   "outputs": [
    {
     "data": {
      "text/plain": [
       "array(['MatBench', 'MD17', 'MD22', 'ANI1X', 'OC20', 'OC22',\n",
       "       'Transition1x', 'QM9', 'QMOF', 'SPICE'], dtype=object)"
      ]
     },
     "execution_count": 8,
     "metadata": {},
     "output_type": "execute_result"
    }
   ],
   "source": [
    "import pandas as pd\n",
    "\n",
    "df = pd.read_pickle(\"../df.pkl\")\n",
    "df[\"dataset_name\"].unique()"
   ]
  },
  {
   "cell_type": "code",
   "execution_count": 2,
   "metadata": {},
   "outputs": [
    {
     "data": {
      "text/plain": [
       "\"# generated using pymatgen\\ndata_Nd2TeO6\\n_symmetry_space_group_name_H-M   'P 1'\\n_cell_length_a   5.48401070\\n_cell_length_b   9.41829014\\n_cell_length_c   10.31116676\\n_cell_angle_alpha   90.00000000\\n_cell_angle_beta   89.99999617\\n_cell_angle_gamma   90.00000000\\n_symmetry_Int_Tables_number   1\\n_chemical_formula_structural   Nd2TeO6\\n_chemical_formula_sum   'Nd8 Te4 O24'\\n_cell_volume   532.57180313\\n_cell_formula_units_Z   4\\nloop_\\n _symmetry_equiv_pos_site_id\\n _symmetry_equiv_pos_as_xyz\\n  1  'x, y, z'\\nloop_\\n _atom_site_type_symbol\\n _atom_site_label\\n _atom_site_symmetry_multiplicity\\n _atom_site_fract_x\\n _atom_site_fract_y\\n _atom_site_fract_z\\n _atom_site_occupancy\\n  O  O0  1  4.12705374  3.90171981  5.07093525  1\\n  O  O1  1  1.38504744  0.80742496  5.24023199  1\\n  O  O2  1  1.35695744  8.61086464  0.08464823  1\\n  O  O3  1  4.09896374  5.51657009  10.22651863  1\\n  O  O4  1  3.95803142  1.05537546  5.82433176  1\\n  O  O5  1  1.21602619  3.65376902  4.48683548  1\\n  O  O6  1  1.52597988  5.76452065  9.64241791  1\\n  O  O7  1  4.26798487  8.36291409  0.66874778  1\\n  O  O8  1  4.43262291  3.39792562  8.49851322  1\\n  O  O9  1  1.69061697  1.31121945  1.81265223  1\\n  O  O10  1  1.05138862  8.10707092  6.96823645  1\\n  O  O11  1  3.79339409  6.02036476  3.34293127  1\\n  O  O12  1  3.65849066  8.92104626  8.12076759  1\\n  O  O13  1  0.91648531  5.20639133  2.19039822  1\\n  O  O14  1  1.82552063  4.21190071  7.34598207  1\\n  O  O15  1  4.56752586  0.49724609  2.96518517  1\\n  O  O16  1  3.73469782  5.99482632  7.66034937  1\\n  O  O17  1  0.99269277  8.13260937  2.65081692  1\\n  O  O18  1  1.74931347  1.28568137  7.80640078  1\\n  O  O19  1  4.49131823  3.42346382  2.50476646  1\\n  O  O20  1  3.14514184  8.00286388  5.39906168  1\\n  O  O21  1  0.40313596  6.12456989  4.91210508  1\\n  O  O22  1  2.33886957  3.29371881  10.06768799  1\\n  O  O23  1  5.08087492  1.41542494  0.24347836  1\\n  Te  Te24  1  0.22637738  0.04516645  1.47862446  1\\n  Te  Te25  1  2.96838379  4.66397953  8.83254147  1\\n  Te  Te26  1  5.25763369  4.75431156  3.67695904  1\\n  Te  Te27  1  2.51562762  9.37312412  6.63420868  1\\n  Nd  Nd28  1  2.87786603  0.97922164  9.88508797  1\\n  Nd  Nd29  1  0.13586019  3.72992301  0.42607936  1\\n  Nd  Nd30  1  2.60614514  5.68836689  5.58166170  1\\n  Nd  Nd31  1  5.34815073  8.43906784  4.72950411  1\\n  Nd  Nd32  1  2.92704606  2.04437494  3.73699284  1\\n  Nd  Nd33  1  0.18504134  2.66477060  6.57417488  1\\n  Nd  Nd34  1  2.55696487  6.75352001  1.41859055  1\\n  Nd  Nd35  1  5.29896975  7.37391567  8.89257526  1\\n\""
      ]
     },
     "execution_count": 2,
     "metadata": {},
     "output_type": "execute_result"
    }
   ],
   "source": [
    "structure = df.iloc[0][\"structure\"]\n",
    "structure.to_file(\"structure.cif\")"
   ]
  },
  {
   "cell_type": "code",
   "execution_count": 6,
   "metadata": {},
   "outputs": [],
   "source": [
    "from ovito.io import import_file\n",
    "from ovito.vis import TachyonRenderer, Viewport\n",
    "\n",
    "image_size = (500, 500)\n",
    "\n",
    "\n",
    "def render(path: str):\n",
    "    pipeline = import_file(path)\n",
    "    pipeline.add_to_scene()\n",
    "    # pipeline.source.data.cell.vis.enabled = False\n",
    "    # pipeline.source.data.cell.vis.render_cell = False\n",
    "\n",
    "    cell_vis = pipeline.source.data.cell.vis\n",
    "    cell_vis.line_width = 1.3\n",
    "    cell_vis.enabled = False\n",
    "    cell_vis.rendering_color = (0.0, 0.1, 0.0)\n",
    "\n",
    "    # vp = Viewport()\n",
    "    vp = Viewport(type=Viewport.Type.Ortho, camera_dir=(2, 1, -1))\n",
    "    vp.zoom_all(size=image_size)\n",
    "    # vp.camera_pos = (0, 0, 0)\n",
    "    vp.render_image(\n",
    "        size=image_size, filename=\"structure.jpg\", renderer=TachyonRenderer()\n",
    "    )\n",
    "\n",
    "\n",
    "render(\"/workspaces/jmp-homepage/notebooks/structure.cif\")"
   ]
  },
  {
   "cell_type": "code",
   "execution_count": null,
   "metadata": {},
   "outputs": [],
   "source": []
  }
 ],
 "metadata": {
  "kernelspec": {
   "display_name": "Python 3",
   "language": "python",
   "name": "python3"
  },
  "language_info": {
   "codemirror_mode": {
    "name": "ipython",
    "version": 3
   },
   "file_extension": ".py",
   "mimetype": "text/x-python",
   "name": "python",
   "nbconvert_exporter": "python",
   "pygments_lexer": "ipython3",
   "version": "3.10.13"
  }
 },
 "nbformat": 4,
 "nbformat_minor": 2
}
